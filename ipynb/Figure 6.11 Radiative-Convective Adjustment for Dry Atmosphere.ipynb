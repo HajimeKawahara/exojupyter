{
 "cells": [
  {
   "cell_type": "code",
   "execution_count": 1,
   "metadata": {
    "collapsed": false
   },
   "outputs": [],
   "source": [
    "#general settings\n",
    "%load_ext autoreload\n",
    "%autoreload 2\n",
    "%matplotlib inline\n",
    "import numpy as np\n",
    "import pylab\n",
    "import matplotlib.pyplot as plt\n",
    "from matplotlib.pyplot import cm\n",
    "from astropy import units as u\n",
    "from astropy import constants as c\n",
    "from matplotlib.colors import LogNorm\n",
    "from mpl_toolkits.axes_grid1 import make_axes_locatable\n",
    "from scipy.integrate import odeint\n",
    "from scipy.interpolate import interp1d\n",
    "from scipy import optimize\n",
    "#plt.rcParams['font.family']='FreeSerif'"
   ]
  },
  {
   "cell_type": "markdown",
   "metadata": {},
   "source": [
    "# settings"
   ]
  },
  {
   "cell_type": "code",
   "execution_count": 2,
   "metadata": {
    "collapsed": false
   },
   "outputs": [],
   "source": [
    "sigma=c.sigma_sb.value\n",
    "R=c.R.value\n",
    "#gamma=1.4\n",
    "#Gamma = (gamma - 1)/gamma\n",
    "Gamma = 0.2\n",
    "tau_s=1.9\n",
    "N=2.0 \n",
    "k=90 #\n",
    "Ps=1.0 #surface pressure [bar]\n",
    "Fi=233.0 #W/m2\n",
    "Fstar=7.0 #W/m2\n",
    "D = 3.0/2.0 #diffusion coefficient\n",
    "sigmaSB=5.670367*10**-8 #Stefan-Boltzman constant"
   ]
  },
  {
   "cell_type": "markdown",
   "metadata": {
    "collapsed": true
   },
   "source": [
    "# Radiative Convective Adjustment from the surface"
   ]
  },
  {
   "cell_type": "markdown",
   "metadata": {},
   "source": [
    "## integration of $\\hat{F}_+^{(c)}$\n"
   ]
  },
  {
   "cell_type": "code",
   "execution_count": 3,
   "metadata": {
    "collapsed": false
   },
   "outputs": [],
   "source": [
    "def funcFinv(Fup,q):\n",
    "    if q>0: return 0.0\n",
    "    val=-(-q)**(N-1)*D*N*tau_s*(Fup - (-q)**(4.0*Gamma))\n",
    "    return val"
   ]
  },
  {
   "cell_type": "code",
   "execution_count": 4,
   "metadata": {
    "collapsed": false
   },
   "outputs": [],
   "source": [
    "p_top=0.00001\n",
    "q = np.arange(-1.0,-p_top,p_top)\n",
    "Fup = odeint(funcFinv, 1.0, q)\n",
    "p=-q"
   ]
  },
  {
   "cell_type": "markdown",
   "metadata": {},
   "source": [
    "## upward flux of the radiation equilibrium at the RC boundary, $\\hat{F}_+^{(r)}$\n"
   ]
  },
  {
   "cell_type": "code",
   "execution_count": 5,
   "metadata": {
    "collapsed": true
   },
   "outputs": [],
   "source": [
    "def Fhatuprad(prc, Frat):\n",
    "    # Frat is Fstar/Fi\n",
    "    Dk = D/k\n",
    "    tpN=tau_s*(prc**N)\n",
    "    expt = np.exp(-k*tpN)\n",
    "    deni = 1.0 + D*tpN\n",
    "    numi = 1.0 + deni\n",
    "    dens = Frat*(1.0 + Dk + (1.0/Dk - Dk)*expt)\n",
    "    nums = Frat*(1.0 + Dk + (1.0 - Dk)*expt)\n",
    "    return (prc**(4.0*Gamma))*(numi + nums)/(deni + dens)"
   ]
  },
  {
   "cell_type": "markdown",
   "metadata": {},
   "source": [
    "### get the intersection of $F_+^{(c)}$ and $F_+^{(r)}$"
   ]
  },
  {
   "cell_type": "code",
   "execution_count": 6,
   "metadata": {
    "collapsed": false
   },
   "outputs": [
    {
     "name": "stdout",
     "output_type": "stream",
     "text": [
      "0.661676508314 0.28846730754\n"
     ]
    }
   ],
   "source": [
    "dF=Fup[:,0]-Fhatuprad(p,Fstar/Fi)\n",
    "deltaF = interp1d(p,dF,fill_value=\"extrapolate\")\n",
    "prc=(optimize.fsolve(deltaF,p_top))[0]\n",
    "Frc=Fhatuprad(prc,Fstar/Fi)\n",
    "print(Fhatuprad(prc,Fstar/Fi),prc)"
   ]
  },
  {
   "cell_type": "code",
   "execution_count": 7,
   "metadata": {
    "collapsed": false
   },
   "outputs": [
    {
     "data": {
      "image/png": "[encoded data removed]",
      "text/plain": [
       "<matplotlib.figure.Figure at 0x7fe68470b358>"
      ]
     },
     "metadata": {},
     "output_type": "display_data"
    }
   ],
   "source": [
    "fig = plt.figure()\n",
    "ax=fig.add_subplot(111)\n",
    "ax.plot(Fup,p,c=\"black\",alpha=0.9,label=\"$\\hat{F}_+^{(c)} (p)$\")\n",
    "ax.plot(Fhatuprad(p, Fstar/Fi),p,\\\n",
    "        label=\"$\\hat{F}_+^{(r)} (p_{rc})$\",c=\"black\",ls=\"dashed\")\n",
    "plt.gca().invert_yaxis()\n",
    "plt.yscale(\"log\")\n",
    "ax.plot(Frc,prc,\"o\",c=\"black\")\n",
    "plt.ylabel(\"normalized pressure\",fontsize=16)\n",
    "plt.tick_params(labelsize=16)\n",
    "plt.xlabel(\"$\\hat{F}_+(p)$\",fontsize=16)\n",
    "plt.ylim(1,0.001)\n",
    "ax.legend(loc=\"upper right\",prop={'size':12},frameon=False)\n",
    "plt.savefig(\"dryrc.pdf\", bbox_inches=\"tight\", pad_inches=0.0)\n",
    "plt.show()"
   ]
  },
  {
   "cell_type": "code",
   "execution_count": 8,
   "metadata": {
    "collapsed": true
   },
   "outputs": [],
   "source": [
    "def Trad(prc, Fi, Fstar):\n",
    "    # Frat is Fstar/Fi\n",
    "    Dk = D/k\n",
    "    tpN=tau_s*(prc**N)\n",
    "    expt = np.exp(-k*tpN)\n",
    "    deni = Fi*(1.0 + D*tpN)/2.0\n",
    "    dens = Fstar*(1.0 + Dk + (1.0/Dk - Dk)*expt)/2.0\n",
    "    \n",
    "    return ((deni + dens)/sigmaSB)**0.25"
   ]
  },
  {
   "cell_type": "code",
   "execution_count": 9,
   "metadata": {
    "collapsed": true
   },
   "outputs": [],
   "source": [
    "def allTP(plist,prc,Fi,Fstar):\n",
    "    tlist=np.zeros(len(plist))\n",
    "    tlist= Trad(prc,Fi,Fstar)*(plist/prc)**Gamma \n",
    "    mask=(plist<prc)\n",
    "    tlist[mask]=Trad(plist[mask],Fi,Fstar)\n",
    "    return tlist"
   ]
  },
  {
   "cell_type": "code",
   "execution_count": 10,
   "metadata": {
    "collapsed": false
   },
   "outputs": [],
   "source": [
    "plist=np.arange(p_top,1.0,p_top)"
   ]
  },
  {
   "cell_type": "code",
   "execution_count": 12,
   "metadata": {
    "collapsed": false
   },
   "outputs": [],
   "source": [
    "# US-atmosphere\n",
    "pus,tus=np.loadtxt(\"data/tpprof.txt\",unpack=True)"
   ]
  },
  {
   "cell_type": "code",
   "execution_count": 13,
   "metadata": {
    "collapsed": false
   },
   "outputs": [
    {
     "data": {
      "image/png": "[encoded data removed]",
      "text/plain": [
       "<matplotlib.figure.Figure at 0x7fe651b39208>"
      ]
     },
     "metadata": {},
     "output_type": "display_data"
    }
   ],
   "source": [
    "fig = plt.figure()\n",
    "ax=fig.add_subplot(111)\n",
    "ax.plot(allTP(plist,prc,Fi,Fstar),plist*Ps,c=\"black\",alpha=0.6,label=\"k=90,N=2\")\n",
    "ax.plot(tus,pus/1000,c=\"black\",ls=\"dashed\",label=\"US Standard\")\n",
    "ax.plot(Trad(prc, Fi, Fstar),prc*Ps,\"o\",c=\"black\",label=\"RC Boundary\")\n",
    "plt.gca().invert_yaxis()\n",
    "plt.yscale(\"log\")\n",
    "plt.ylabel(\"Pressure [bar]\",fontsize=16)\n",
    "plt.tick_params(labelsize=16)\n",
    "plt.xlabel(\"T [K]\",fontsize=16)\n",
    "plt.ylim(1,0.001)\n",
    "plt.title(\"$F_i= 233 \\mathrm{W/m^2}, F_\\star = 7 \\mathrm{W/m^2}, \\\n",
    "P_s = 1 \\mathrm{bar}, \\Gamma=0.2, D=1.5$\")\n",
    "ax.legend(loc=\"upper right\",prop={'size':12},frameon=False)\n",
    "plt.savefig(\"dryrcearth.pdf\", bbox_inches=\"tight\", pad_inches=0.0)\n",
    "plt.show()"
   ]
  },
  {
   "cell_type": "code",
   "execution_count": null,
   "metadata": {
    "collapsed": true
   },
   "outputs": [],
   "source": []
  }
 ],
 "metadata": {
  "kernelspec": {
   "display_name": "Python 3",
   "language": "python",
   "name": "python3"
  },
  "language_info": {
   "codemirror_mode": {
    "name": "ipython",
    "version": 3
   },
   "file_extension": ".py",
   "mimetype": "text/x-python",
   "name": "python",
   "nbconvert_exporter": "python",
   "pygments_lexer": "ipython3",
   "version": "3.6.0"
  },
  "toc": {
   "colors": {
    "hover_highlight": "#DAA520",
    "navigate_num": "#000000",
    "navigate_text": "#333333",
    "running_highlight": "#FF0000",
    "selected_highlight": "#FFD700",
    "sidebar_border": "#EEEEEE",
    "wrapper_background": "#FFFFFF"
   },
   "moveMenuLeft": true,
   "nav_menu": {
    "height": "11px",
    "width": "251px"
   },
   "navigate_menu": true,
   "number_sections": true,
   "sideBar": true,
   "threshold": 4,
   "toc_cell": false,
   "toc_section_display": "block",
   "toc_window_display": true,
   "widenNotebook": false
  }
 },
 "nbformat": 4,
 "nbformat_minor": 2
}
